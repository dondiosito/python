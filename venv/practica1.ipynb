{
 "cells": [
  {
   "cell_type": "code",
   "execution_count": 7,
   "id": "ea3cb03b-e977-465a-a3bd-e049430d2e74",
   "metadata": {},
   "outputs": [
    {
     "name": "stdout",
     "output_type": "stream",
     "text": [
      "Beautiful is better than ugly.\n",
      "Explicit is better than implicit.\n",
      "Simple is better than complex.\n",
      "Complex is better than complicated.\n",
      "Flat is better than nested.\n",
      "Sparse is better than dense.\n",
      "Unless explicitly silenced.\n",
      "Now is better than never.\n",
      "Namespaces are one honking great idea -- let's do more of those!\n"
     ]
    }
   ],
   "source": [
    "import this\n",
    "\n",
    "zen_text = \"\"\"Beautiful is better than ugly.\n",
    "Explicit is better than implicit.\n",
    "Simple is better than complex.\n",
    "Complex is better than complicated.\n",
    "Flat is better than nested.\n",
    "Sparse is better than dense.\n",
    "Readability counts.\n",
    "Special cases aren't special enough to break the rules.\n",
    "Although practicality beats purity.\n",
    "Errors should never pass silently.\n",
    "Unless explicitly silenced.\n",
    "In the face of ambiguity, refuse the temptation to guess.\n",
    "There should be one-- and preferably only one --obvious way to do it.\n",
    "Although that way may not be obvious at first unless you're Dutch.\n",
    "Now is better than never.\n",
    "Although never is often better than right now.\n",
    "If the implementation is hard to explain, it's a bad idea.\n",
    "If the implementation is easy to explain, it may be a good idea.\n",
    "Namespaces are one honking great idea -- let's do more of those!\"\"\"\n",
    "\n",
    "for line in zen_text.split(\"\\n\"):\n",
    "    words = line.split()\n",
    "    if len(words) > 1 and words[1][0].lower() in \"aeiou\":\n",
    "        print(line)"
   ]
  },
  {
   "cell_type": "code",
   "execution_count": 3,
   "id": "43f06a3f-81e8-4e31-8940-b63461a4c90f",
   "metadata": {},
   "outputs": [
    {
     "name": "stdout",
     "output_type": "stream",
     "text": [
      "El título más largo es: Jugando al nuevo FPS del momento con amigos\n"
     ]
    }
   ],
   "source": [
    "titles = [\n",
    "    \"Speedrun de Super Mario en tiempo récord\",\n",
    "    \"Charla sobre desarrollo de videojuegos\",\n",
    "    \"Jugando al nuevo FPS del momento con amigos\",\n",
    "    \"Música en vivo: improvisaciones al piano\"\n",
    "]\n",
    "\n",
    "titulo_mas_largo = \"\"\n",
    "max_palabras = 0\n",
    "\n",
    "for titulo in titles:\n",
    "    palabras = titulo.split()\n",
    "    cantidad = len(palabras)\n",
    "    \n",
    "    if cantidad > max_palabras:\n",
    "        max_palabras = cantidad\n",
    "        titulo_mas_largo = titulo\n",
    "\n",
    "print(\"El título más largo es:\", titulo_mas_largo)\n"
   ]
  },
  {
   "cell_type": "code",
   "execution_count": 6,
   "id": "30629bb3",
   "metadata": {},
   "outputs": [
    {
     "name": "stdin",
     "output_type": "stream",
     "text": [
      "Ingrese una palabra clave:  spam\n"
     ]
    },
    {
     "name": "stdout",
     "output_type": "stream",
     "text": [
      "Evita el spam. No publiques enlaces sospechosos o repetitivos.\n"
     ]
    }
   ],
   "source": [
    "rules = \"\"\"Respeta a los demás. No se permiten insultos ni lenguaje ofensivo.\n",
    "Evita el spam. No publiques enlaces sospechosos o repetitivos.\n",
    "No compartas información personal.\n",
    "Usa los canales adecuados para cada tema.\n",
    "Sigue las instrucciones de los moderadores.\"\"\"\n",
    "\n",
    "palabra_clave = input(\"Ingrese una palabra clave: \").lower() \n",
    "\n",
    "for regla in rules.splitlines():                             \n",
    "    \n",
    "    if palabra_clave in regla.lower():\n",
    "        print(regla)\n"
   ]
  },
  {
   "cell_type": "code",
   "execution_count": 9,
   "id": "71e77280-a92e-4ec0-b030-19d529d89710",
   "metadata": {},
   "outputs": [
    {
     "name": "stdin",
     "output_type": "stream",
     "text": [
      "Ingrese un nombre de usuario:  Hola123\n"
     ]
    },
    {
     "name": "stdout",
     "output_type": "stream",
     "text": [
      "El nombre de usuario es válido.\n"
     ]
    }
   ],
   "source": [
    "usuario = input(\"Ingrese un nombre de usuario: \")\n",
    "\n",
    "\n",
    "tiene_mayuscula = any(letra.isupper() for letra in usuario)\n",
    "tiene_numero = any(letra.isdigit() for letra in usuario)\n",
    "es_alfanumerico = usuario.isalnum()\n",
    "longitud_valida = len(usuario) >= 5\n",
    "\n",
    "\n",
    "if tiene_mayuscula and tiene_numero and es_alfanumerico and longitud_valida:\n",
    "    print(\"El nombre de usuario es válido.\")\n",
    "else:\n",
    "    print(\"El nombre de usuario no cumple con los requisitos.\")\n"
   ]
  },
  {
   "cell_type": "code",
   "execution_count": 10,
   "id": "dcee442f-c511-4b2b-a65a-784eca80a20b",
   "metadata": {},
   "outputs": [
    {
     "name": "stdin",
     "output_type": "stream",
     "text": [
      "Ingrese su tiempo de reacción en ms:  345\n"
     ]
    },
    {
     "name": "stdout",
     "output_type": "stream",
     "text": [
      "Categoría: Normal\n"
     ]
    }
   ],
   "source": [
    "# Solicitar el tiempo al usuario\n",
    "tiempo = int(input(\"Ingrese su tiempo de reacción en ms: \"))\n",
    "\n",
    "# Clasificación según el valor ingresado\n",
    "if tiempo < 200:\n",
    "    categoria = \"Rápido\"\n",
    "elif tiempo <= 500:\n",
    "    categoria = \"Normal\"\n",
    "else:\n",
    "    categoria = \"Lento\"\n",
    "\n",
    "# Mostrar resultado\n",
    "print(\"Categoría:\", categoria)\n"
   ]
  },
  {
   "cell_type": "code",
   "execution_count": null,
   "id": "c07e3152-2892-46fa-a628-eac77a82f5c1",
   "metadata": {},
   "outputs": [],
   "source": [
    "descriptions = [\n",
    "    \"Streaming de música en vivo con covers y composiciones\",\n",
    "    \"Charla interactiva con la audiencia sobre series y películas\",\n",
    "    \"Jugamos a juegos retro y charlamos sobre su historia\",\n",
    "    \"Exploramos la mejor música de los 80s y 90s\",\n",
    "    \"Programa de entretenimiento con noticias y curiosidades del mundo gamer\",\n",
    "    \"Sesión de charla con invitados especiales del mundo del streaming\",\n",
    "    \"Música en directo con improvisaciones y peticiones del chat\",\n",
    "    \"Un espacio para charlar relajada sobre tecnología y cultura digital\",\n",
    "    \"Exploramos el impacto de la música en los videojuegos clásicos\"\n",
    "]\n",
    "\n",
    "palabras_clave = [\"música\", \"charla\", \"entretenimiento\"]\n",
    "\n",
    "\n",
    "conteo = {\"música\": 0, \"charla\": 0, \"entretenimiento\": 0}\n",
    "\n",
    "\n",
    "for descripcion in descriptions:\n",
    "    desc_minuscula = descripcion.lower() \n",
    "    for palabra in palabras_clave:\n",
    "        if palabra in desc_minuscula:\n",
    "            conteo[palabra] += 1\n",
    "\n",
    "\n",
    "for palabra in palabras_clave:\n",
    "    print(f\"Menciones de '{palabra}': {conteo[palabra]}\")\n"
   ]
  },
  {
   "cell_type": "code",
   "execution_count": 11,
   "id": "12697f45-b2b9-4bf5-afd2-24fd5e2c3838",
   "metadata": {},
   "outputs": [
    {
     "name": "stdin",
     "output_type": "stream",
     "text": [
      "Ingrese la primera palabra:  amor\n",
      "Ingrese la segunda palabra:  roma\n"
     ]
    },
    {
     "name": "stdout",
     "output_type": "stream",
     "text": [
      "Son anagramas.\n"
     ]
    }
   ],
   "source": [
    "def son_anagramas(palabra1, palabra2):\n",
    "    \n",
    "    palabra1 = palabra1.lower()\n",
    "    palabra2 = palabra2.lower()\n",
    "\n",
    "    \n",
    "    return sorted(palabra1) == sorted(palabra2)\n",
    "\n",
    "\n",
    "p1 = input(\"Ingrese la primera palabra: \")\n",
    "p2 = input(\"Ingrese la segunda palabra: \")\n",
    "\n",
    "if son_anagramas(p1, p2):\n",
    "    print(\"Son anagramas.\")\n",
    "else:\n",
    "    print(\"No son anagramas.\")\n"
   ]
  },
  {
   "cell_type": "code",
   "execution_count": 12,
   "id": "887b114a-3c35-44e2-bbf1-c4e92540473d",
   "metadata": {},
   "outputs": [
    {
     "name": "stdout",
     "output_type": "stream",
     "text": [
      "Lista limpia de clientes:\n",
      "- Ana López\n",
      "- Pedro Gómez\n",
      "- Maria Martínez\n",
      "- Luis Rodríguez\n",
      "- Juan Pérez\n",
      "- Marta Suárez\n",
      "- María Martínez\n",
      "- Claudia Torres\n",
      "- Ricardo Fernández\n",
      "- Laura Ramos\n",
      "- Carlos Mendes\n",
      "- Alejandro González\n",
      "- Patricia Vega\n",
      "- Andrés Ocampo\n",
      "- Monica Herrera\n",
      "- Gabriela Ruíz\n",
      "- Sandra Morales\n",
      "- Miguel Ángel\n",
      "- Damián Castillo\n"
     ]
    }
   ],
   "source": [
    "def limpiar_clientes(lista_clientes):\n",
    "    clientes_limpios = []\n",
    "\n",
    "    for cliente in lista_clientes:\n",
    "        \n",
    "        if cliente and cliente.strip():\n",
    "            nombre_limpio = cliente.strip().title()\n",
    "            if nombre_limpio not in clientes_limpios:\n",
    "                clientes_limpios.append(nombre_limpio)\n",
    "\n",
    "    return clientes_limpios\n",
    "\n",
    "\n",
    "clientes = [\n",
    "    \" Ana López \", \"Pedro Gómez\", \"maria martínez\", \"Pedro Gómez \", \"\",\n",
    "    \" Luis Rodríguez \", None, \"ana lópez\", \"JUAN PÉREZ\", \"MARTA SUÁREZ\",\n",
    "    \"luis rodríguez\", \"maría martínez \", \" claudia torres\", \"CLAUDIA TORRES\",\n",
    "    \" \", \"pedro gómez\", \"Juan Pérez\", None, \"Ricardo Fernández\", \"LAURA RAMOS\",\n",
    "    \"carlos mendes\", \"RICARDO FERNÁNDEZ \", \" Laura ramos\", \"CARLOS MENDES\",\n",
    "    \"alejandro gonzález\", \" ALEJANDRO GONZÁLEZ \", \"Patricia Vega\",\n",
    "    \"patricia VEGA\", \"Andrés Ocampo\", \" andrés ocampo\", \"Monica Herrera\",\n",
    "    \"MONICA HERRERA \", \"gabriela ruíz\", \"Gabriela Ruíz\", \"sandra morales\",\n",
    "    \"SANDRA MORALES\", \"miguel ángel\", \"Miguel Ángel \", \" Damián Castillo\",\n",
    "    \"Damián Castillo \", None, \"\", \" \"\n",
    "]\n",
    "\n",
    "\n",
    "clientes_limpios = limpiar_clientes(clientes)\n",
    "\n",
    "\n",
    "print(\"Lista limpia de clientes:\")\n",
    "for nombre in clientes_limpios:\n",
    "    print(\"-\", nombre)\n"
   ]
  },
  {
   "cell_type": "code",
   "execution_count": 13,
   "id": "043e8868-2e61-42b2-a33b-0a4366c84f83",
   "metadata": {},
   "outputs": [
    {
     "name": "stdout",
     "output_type": "stream",
     "text": [
      "\n",
      "🔸 Ranking después de la ronda 1\n",
      "Shadow  | Kills:  2 | Assists:  1 | Deaths:  1 | MVPs:  1 | Puntos:   6\n",
      "Viper   | Kills:  1 | Assists:  2 | Deaths:  1 | MVPs:  0 | Puntos:   4\n",
      "Reaper  | Kills:  1 | Assists:  1 | Deaths:  0 | MVPs:  0 | Puntos:   4\n",
      "Blaze   | Kills:  1 | Assists:  0 | Deaths:  0 | MVPs:  0 | Puntos:   3\n",
      "Frost   | Kills:  0 | Assists:  1 | Deaths:  0 | MVPs:  0 | Puntos:   1\n",
      "\n",
      "🔸 Ranking después de la ronda 2\n",
      "Shadow  | Kills:  3 | Assists:  2 | Deaths:  1 | MVPs:  1 | Puntos:  10\n",
      "Blaze   | Kills:  3 | Assists:  0 | Deaths:  0 | MVPs:  1 | Puntos:   9\n",
      "Reaper  | Kills:  3 | Assists:  1 | Deaths:  1 | MVPs:  0 | Puntos:   9\n",
      "Viper   | Kills:  1 | Assists:  5 | Deaths:  1 | MVPs:  0 | Puntos:   7\n",
      "Frost   | Kills:  1 | Assists:  2 | Deaths:  1 | MVPs:  0 | Puntos:   4\n",
      "\n",
      "🔸 Ranking después de la ronda 3\n",
      "Shadow  | Kills:  6 | Assists:  2 | Deaths:  1 | MVPs:  2 | Puntos:  19\n",
      "Blaze   | Kills:  3 | Assists:  2 | Deaths:  1 | MVPs:  1 | Puntos:  10\n",
      "Viper   | Kills:  2 | Assists:  6 | Deaths:  2 | MVPs:  0 | Puntos:  10\n",
      "Reaper  | Kills:  3 | Assists:  2 | Deaths:  1 | MVPs:  0 | Puntos:  10\n",
      "Frost   | Kills:  2 | Assists:  4 | Deaths:  1 | MVPs:  0 | Puntos:   9\n",
      "\n",
      "🔸 Ranking después de la ronda 4\n",
      "Shadow  | Kills:  8 | Assists:  3 | Deaths:  2 | MVPs:  3 | Puntos:  25\n",
      "Viper   | Kills:  3 | Assists:  8 | Deaths:  2 | MVPs:  0 | Puntos:  15\n",
      "Frost   | Kills:  4 | Assists:  4 | Deaths:  1 | MVPs:  1 | Puntos:  15\n",
      "Reaper  | Kills:  4 | Assists:  3 | Deaths:  1 | MVPs:  0 | Puntos:  14\n",
      "Blaze   | Kills:  4 | Assists:  3 | Deaths:  2 | MVPs:  1 | Puntos:  13\n",
      "\n",
      "🔸 Ranking después de la ronda 5\n",
      "Shadow  | Kills:  8 | Assists:  6 | Deaths:  2 | MVPs:  3 | Puntos:  28\n",
      "Reaper  | Kills:  7 | Assists:  3 | Deaths:  2 | MVPs:  1 | Puntos:  22\n",
      "Blaze   | Kills:  6 | Assists:  4 | Deaths:  2 | MVPs:  1 | Puntos:  20\n",
      "Frost   | Kills:  5 | Assists:  5 | Deaths:  1 | MVPs:  1 | Puntos:  19\n",
      "Viper   | Kills:  4 | Assists:  8 | Deaths:  3 | MVPs:  0 | Puntos:  17\n",
      "\n",
      "🏁 Ranking final:\n",
      "Jugador | Kills | Assists | Deaths | MVPs | Puntos\n",
      "---------------------------------------------------\n",
      "Shadow  |     8 |       6 |      2 |    3 |     28\n",
      "Reaper  |     7 |       3 |      2 |    1 |     22\n",
      "Blaze   |     6 |       4 |      2 |    1 |     20\n",
      "Frost   |     5 |       5 |      1 |    1 |     19\n",
      "Viper   |     4 |       8 |      3 |    0 |     17\n"
     ]
    }
   ],
   "source": [
    "# Sistema de puntuación por acción\n",
    "PUNTOS = {'kill': 3, 'assist': 1, 'death': -1}\n",
    "\n",
    "# Datos simulados de 5 rondas\n",
    "rounds = [\n",
    "    {\n",
    "        'Shadow': {'kills': 2, 'assists': 1, 'deaths': True},\n",
    "        'Blaze': {'kills': 1, 'assists': 0, 'deaths': False},\n",
    "        'Viper': {'kills': 1, 'assists': 2, 'deaths': True},\n",
    "        'Frost': {'kills': 0, 'assists': 1, 'deaths': False},\n",
    "        'Reaper': {'kills': 1, 'assists': 1, 'deaths': False}\n",
    "    },\n",
    "    {\n",
    "        'Shadow': {'kills': 1, 'assists': 1, 'deaths': False},\n",
    "        'Blaze': {'kills': 2, 'assists': 0, 'deaths': False},\n",
    "        'Viper': {'kills': 0, 'assists': 3, 'deaths': False},\n",
    "        'Frost': {'kills': 1, 'assists': 1, 'deaths': True},\n",
    "        'Reaper': {'kills': 2, 'assists': 0, 'deaths': True}\n",
    "    },\n",
    "    {\n",
    "        'Shadow': {'kills': 3, 'assists': 0, 'deaths': False},\n",
    "        'Blaze': {'kills': 0, 'assists': 2, 'deaths': True},\n",
    "        'Viper': {'kills': 1, 'assists': 1, 'deaths': True},\n",
    "        'Frost': {'kills': 1, 'assists': 2, 'deaths': False},\n",
    "        'Reaper': {'kills': 0, 'assists': 1, 'deaths': False}\n",
    "    },\n",
    "    {\n",
    "        'Shadow': {'kills': 2, 'assists': 1, 'deaths': True},\n",
    "        'Blaze': {'kills': 1, 'assists': 1, 'deaths': True},\n",
    "        'Viper': {'kills': 1, 'assists': 2, 'deaths': False},\n",
    "        'Frost': {'kills': 2, 'assists': 0, 'deaths': False},\n",
    "        'Reaper': {'kills': 1, 'assists': 1, 'deaths': False}\n",
    "    },\n",
    "    {\n",
    "        'Shadow': {'kills': 0, 'assists': 3, 'deaths': False},\n",
    "        'Blaze': {'kills': 2, 'assists': 1, 'deaths': False},\n",
    "        'Viper': {'kills': 1, 'assists': 0, 'deaths': True},\n",
    "        'Frost': {'kills': 1, 'assists': 1, 'deaths': False},\n",
    "        'Reaper': {'kills': 3, 'assists': 0, 'deaths': True}\n",
    "    }\n",
    "]\n",
    "\n",
    "# Diccionario para acumular estadísticas de todos los jugadores\n",
    "jugadores = {}\n",
    "\n",
    "# Procesar cada ronda\n",
    "for i, ronda in enumerate(rounds):\n",
    "    print(f\"\\n🔸 Ranking después de la ronda {i+1}\")\n",
    "\n",
    "    # Puntos de esta ronda para calcular el MVP\n",
    "    puntajes_ronda = {}\n",
    "\n",
    "    for nombre, stats in ronda.items():\n",
    "        kills = stats['kills']\n",
    "        assists = stats['assists']\n",
    "        deaths = 1 if stats['deaths'] else 0\n",
    "\n",
    "        puntos = kills * PUNTOS['kill'] + assists * PUNTOS['assist'] + deaths * PUNTOS['death']\n",
    "\n",
    "        if nombre not in jugadores:\n",
    "            jugadores[nombre] = {'kills': 0, 'assists': 0, 'deaths': 0, 'mvp': 0, 'puntos': 0}\n",
    "\n",
    "        jugadores[nombre]['kills'] += kills\n",
    "        jugadores[nombre]['assists'] += assists\n",
    "        jugadores[nombre]['deaths'] += deaths\n",
    "        jugadores[nombre]['puntos'] += puntos\n",
    "\n",
    "        puntajes_ronda[nombre] = puntos\n",
    "\n",
    "    # Calcular MVP (mayor puntaje en esta ronda)\n",
    "    max_puntos = max(puntajes_ronda.values())\n",
    "    for nombre, pts in puntajes_ronda.items():\n",
    "        if pts == max_puntos:\n",
    "            jugadores[nombre]['mvp'] += 1\n",
    "\n",
    "    # Mostrar ranking parcial (ordenado por puntos)\n",
    "    ranking = sorted(jugadores.items(), key=lambda x: x[1]['puntos'], reverse=True)\n",
    "\n",
    "    for nombre, datos in ranking:\n",
    "        print(f\"{nombre:7} | Kills: {datos['kills']:2} | Assists: {datos['assists']:2} | Deaths: {datos['deaths']:2} | MVPs: {datos['mvp']:2} | Puntos: {datos['puntos']:3}\")\n",
    "\n",
    "# Mostrar ranking final\n",
    "print(\"\\n🏁 Ranking final:\")\n",
    "print(\"Jugador | Kills | Assists | Deaths | MVPs | Puntos\")\n",
    "print(\"---------------------------------------------------\")\n",
    "for nombre, datos in ranking:\n",
    "    print(f\"{nombre:7} | {datos['kills']:5} | {datos['assists']:7} | {datos['deaths']:6} | {datos['mvp']:4} | {datos['puntos']:6}\")\n"
   ]
  },
  {
   "cell_type": "code",
   "execution_count": null,
   "id": "6696ffeb-22dc-4806-9c84-799e3e13c901",
   "metadata": {},
   "outputs": [],
   "source": []
  }
 ],
 "metadata": {
  "kernelspec": {
   "display_name": "Python 3 (ipykernel)",
   "language": "python",
   "name": "python3"
  },
  "language_info": {
   "codemirror_mode": {
    "name": "ipython",
    "version": 3
   },
   "file_extension": ".py",
   "mimetype": "text/x-python",
   "name": "python",
   "nbconvert_exporter": "python",
   "pygments_lexer": "ipython3",
   "version": "3.12.9"
  }
 },
 "nbformat": 4,
 "nbformat_minor": 5
}
